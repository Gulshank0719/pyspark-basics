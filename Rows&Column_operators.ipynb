{
  "nbformat": 4,
  "nbformat_minor": 0,
  "metadata": {
    "colab": {
      "provenance": []
    },
    "kernelspec": {
      "name": "python3",
      "display_name": "Python 3"
    },
    "language_info": {
      "name": "python"
    }
  },
  "cells": [
    {
      "cell_type": "code",
      "execution_count": 27,
      "metadata": {
        "colab": {
          "base_uri": "https://localhost:8080/"
        },
        "id": "dKCgRnXzn5K4",
        "outputId": "11981907-9c81-47d9-bc63-385ab1444911"
      },
      "outputs": [
        {
          "output_type": "stream",
          "name": "stdout",
          "text": [
            "Looking in indexes: https://pypi.org/simple, https://us-python.pkg.dev/colab-wheels/public/simple/\n",
            "Requirement already satisfied: pyspark in /usr/local/lib/python3.7/dist-packages (3.3.0)\n",
            "Requirement already satisfied: py4j==0.10.9.5 in /usr/local/lib/python3.7/dist-packages (from pyspark) (0.10.9.5)\n"
          ]
        }
      ],
      "source": [
        "pip install pyspark"
      ]
    },
    {
      "cell_type": "code",
      "source": [
        "from pyspark.sql import SparkSession"
      ],
      "metadata": {
        "id": "PycjMZ8jn8qV"
      },
      "execution_count": 28,
      "outputs": []
    },
    {
      "cell_type": "code",
      "source": [
        "spark = SparkSession.builder \\\n",
        "      .master(\"local[1]\") \\\n",
        "      .appName(\"SparkByExamples.com\") \\\n",
        "      .getOrCreate() "
      ],
      "metadata": {
        "id": "hpk5AeHJoCST"
      },
      "execution_count": 29,
      "outputs": []
    },
    {
      "cell_type": "code",
      "source": [
        "from pyspark.sql import Row\n",
        "row = Row('James',40)\n",
        "print(row[0]+\",\"+str(row[1]))"
      ],
      "metadata": {
        "colab": {
          "base_uri": "https://localhost:8080/"
        },
        "id": "Lm3IuLWPoWdi",
        "outputId": "216629a0-a335-450d-df65-a47fefec7da6"
      },
      "execution_count": 30,
      "outputs": [
        {
          "output_type": "stream",
          "name": "stdout",
          "text": [
            "James,40\n"
          ]
        }
      ]
    },
    {
      "cell_type": "code",
      "source": [
        "row = Row(name='Alice' , age = 11)\n",
        "print(row)"
      ],
      "metadata": {
        "colab": {
          "base_uri": "https://localhost:8080/"
        },
        "id": "a47vHRPUo0eU",
        "outputId": "88350971-d91c-41b4-a3be-a8517e6b7f56"
      },
      "execution_count": 31,
      "outputs": [
        {
          "output_type": "stream",
          "name": "stdout",
          "text": [
            "Row(name='Alice', age=11)\n"
          ]
        }
      ]
    },
    {
      "cell_type": "code",
      "source": [
        "print(row.name , row.age)"
      ],
      "metadata": {
        "colab": {
          "base_uri": "https://localhost:8080/"
        },
        "id": "8DAbcJ0aptX3",
        "outputId": "9d54b884-8e87-483f-a854-06a343bbfd56"
      },
      "execution_count": 32,
      "outputs": [
        {
          "output_type": "stream",
          "name": "stdout",
          "text": [
            "Alice 11\n"
          ]
        }
      ]
    },
    {
      "cell_type": "code",
      "source": [
        "person = Row(\"name\" , \"age\")\n",
        "p1 = person('James' , 40)\n",
        "p2 = person('Alice',11)\n",
        "print(p1.name) \n",
        "print(p2.name)"
      ],
      "metadata": {
        "colab": {
          "base_uri": "https://localhost:8080/"
        },
        "id": "cjTfxENTpxU_",
        "outputId": "25ab538c-6f77-4d87-a37c-596c96b710c8"
      },
      "execution_count": 33,
      "outputs": [
        {
          "output_type": "stream",
          "name": "stdout",
          "text": [
            "James\n",
            "Alice\n"
          ]
        }
      ]
    },
    {
      "cell_type": "code",
      "source": [
        "data = [Row(name='James,,Smith' , lang=['Java' , 'Scala' , 'C++'] , state='CA'),\n",
        "        Row(name='Micheal,Rose,',lang=['Spark','Java','C++'],state='NJ'),\n",
        "        Row(name='Robert,Langdon,Halstead',lang=['CSharp',\"VB\"] , state=\"NV\")]\n",
        "\n",
        "rdd = spark.sparkContext.parallelize(data)\n",
        "print(rdd.collect())      "
      ],
      "metadata": {
        "colab": {
          "base_uri": "https://localhost:8080/"
        },
        "id": "hrBLSeeoqcKR",
        "outputId": "cb09b114-b5b3-4a3d-d99b-87d6d5a2c388"
      },
      "execution_count": 34,
      "outputs": [
        {
          "output_type": "stream",
          "name": "stdout",
          "text": [
            "[Row(name='James,,Smith', lang=['Java', 'Scala', 'C++'], state='CA'), Row(name='Micheal,Rose,', lang=['Spark', 'Java', 'C++'], state='NJ'), Row(name='Robert,Langdon,Halstead', lang=['CSharp', 'VB'], state='NV')]\n"
          ]
        }
      ]
    },
    {
      "cell_type": "code",
      "source": [
        "collData=rdd.collect()\n",
        "for row in collData:\n",
        "  print(row.name + \",\" + str(row.lang))"
      ],
      "metadata": {
        "colab": {
          "base_uri": "https://localhost:8080/"
        },
        "id": "-LZGIdqbsItT",
        "outputId": "f5b6a31a-60be-4ddf-a4ce-2b6b0a9345f8"
      },
      "execution_count": 35,
      "outputs": [
        {
          "output_type": "stream",
          "name": "stdout",
          "text": [
            "James,,Smith,['Java', 'Scala', 'C++']\n",
            "Micheal,Rose,,['Spark', 'Java', 'C++']\n",
            "Robert,Langdon,Halstead,['CSharp', 'VB']\n"
          ]
        }
      ]
    },
    {
      "cell_type": "code",
      "source": [
        "person = Row(\"name\" , 'lang' , 'state')\n",
        "data = [person(\"James,,Smith\" , ['JAVA','scala','SQL'] , 'CA'),\n",
        "        person(\"Micheal,Rose,\" , ['Java','Spark','C++'],'NJ'),\n",
        "        person(\"David,Schrute,Langdon\" ,['CSharp',\"VB\"] , 'NV')]\n",
        "print(data)        \n"
      ],
      "metadata": {
        "colab": {
          "base_uri": "https://localhost:8080/"
        },
        "id": "-l3sdqmdtue2",
        "outputId": "46230012-12fc-464b-b02e-63d2e2f251d4"
      },
      "execution_count": 36,
      "outputs": [
        {
          "output_type": "stream",
          "name": "stdout",
          "text": [
            "[Row(name='James,,Smith', lang=['JAVA', 'scala', 'SQL'], state='CA'), Row(name='Micheal,Rose,', lang=['Java', 'Spark', 'C++'], state='NJ'), Row(name='David,Schrute,Langdon', lang=['CSharp', 'VB'], state='NV')]\n"
          ]
        }
      ]
    },
    {
      "cell_type": "code",
      "source": [
        "df = spark.createDataFrame(data)\n",
        "df.show()\n",
        "df.printSchema()"
      ],
      "metadata": {
        "colab": {
          "base_uri": "https://localhost:8080/"
        },
        "id": "7dXKv6vMw4F-",
        "outputId": "9f877d60-b062-4266-9861-e32a24b24172"
      },
      "execution_count": 37,
      "outputs": [
        {
          "output_type": "stream",
          "name": "stdout",
          "text": [
            "+--------------------+------------------+-----+\n",
            "|                name|              lang|state|\n",
            "+--------------------+------------------+-----+\n",
            "|        James,,Smith|[JAVA, scala, SQL]|   CA|\n",
            "|       Micheal,Rose,|[Java, Spark, C++]|   NJ|\n",
            "|David,Schrute,Lan...|      [CSharp, VB]|   NV|\n",
            "+--------------------+------------------+-----+\n",
            "\n",
            "root\n",
            " |-- name: string (nullable = true)\n",
            " |-- lang: array (nullable = true)\n",
            " |    |-- element: string (containsNull = true)\n",
            " |-- state: string (nullable = true)\n",
            "\n"
          ]
        }
      ]
    },
    {
      "cell_type": "code",
      "source": [
        "columns = ['name','languageAtSchool','currentState']\n",
        "df = spark.createDataFrame(data).toDF(*columns)\n",
        "df.show()\n",
        "df.printSchema()"
      ],
      "metadata": {
        "colab": {
          "base_uri": "https://localhost:8080/"
        },
        "id": "l9jveiMIxIhJ",
        "outputId": "4cb08cd3-bbaf-4916-eec3-346b79915b45"
      },
      "execution_count": 38,
      "outputs": [
        {
          "output_type": "stream",
          "name": "stdout",
          "text": [
            "+--------------------+------------------+------------+\n",
            "|                name|  languageAtSchool|currentState|\n",
            "+--------------------+------------------+------------+\n",
            "|        James,,Smith|[JAVA, scala, SQL]|          CA|\n",
            "|       Micheal,Rose,|[Java, Spark, C++]|          NJ|\n",
            "|David,Schrute,Lan...|      [CSharp, VB]|          NV|\n",
            "+--------------------+------------------+------------+\n",
            "\n",
            "root\n",
            " |-- name: string (nullable = true)\n",
            " |-- languageAtSchool: array (nullable = true)\n",
            " |    |-- element: string (containsNull = true)\n",
            " |-- currentState: string (nullable = true)\n",
            "\n"
          ]
        }
      ]
    },
    {
      "cell_type": "code",
      "source": [
        "#Create DataFrame with struct using row class\n",
        "data = [Row(name='James' , prop=Row(hair='Blonde',eyes='blue')),\n",
        "        Row(name='Sebastian',prop=Row(hair='Brunette',eyes='Black'))]\n",
        "df = spark.createDataFrame(data)\n",
        "df.printSchema()\n",
        "df.show()          "
      ],
      "metadata": {
        "colab": {
          "base_uri": "https://localhost:8080/"
        },
        "id": "5swHi2tLyghG",
        "outputId": "4836d0bc-a27f-47dd-c90a-498e2ed26867"
      },
      "execution_count": 39,
      "outputs": [
        {
          "output_type": "stream",
          "name": "stdout",
          "text": [
            "root\n",
            " |-- name: string (nullable = true)\n",
            " |-- prop: struct (nullable = true)\n",
            " |    |-- hair: string (nullable = true)\n",
            " |    |-- eyes: string (nullable = true)\n",
            "\n",
            "+---------+-----------------+\n",
            "|     name|             prop|\n",
            "+---------+-----------------+\n",
            "|    James|   {Blonde, blue}|\n",
            "|Sebastian|{Brunette, Black}|\n",
            "+---------+-----------------+\n",
            "\n"
          ]
        }
      ]
    },
    {
      "cell_type": "code",
      "source": [
        "from pyspark.sql.functions import lit #lit is literal  used to add a new column to DataFrame by assigning a literal or constant value.\n",
        "colObj = lit('sparkbyexamples.com')\n",
        "colObj"
      ],
      "metadata": {
        "id": "g6zVG5aM0eq8",
        "colab": {
          "base_uri": "https://localhost:8080/"
        },
        "outputId": "0dfdc3fc-f651-4f64-986c-cc000b24d411"
      },
      "execution_count": 40,
      "outputs": [
        {
          "output_type": "execute_result",
          "data": {
            "text/plain": [
              "Column<'sparkbyexamples.com'>"
            ]
          },
          "metadata": {},
          "execution_count": 40
        }
      ]
    },
    {
      "cell_type": "code",
      "source": [
        "data = [('James',23),('Ann',40)]\n",
        "df = spark.createDataFrame(data).toDF('name.fname','gender')\n",
        "df.printSchema()\n",
        "#root\n",
        "#|-- name.fname: string (nullable = true)\n",
        "#|-- gender: long (nullable = true)\n",
        "\n",
        "#Using DataFrame object(df)\n",
        "df.select(df['gender']).show()\n",
        "#Accessing column name with dot (with backticks)\n",
        "df.select(df[\"`name.fname`\"]).show()"
      ],
      "metadata": {
        "colab": {
          "base_uri": "https://localhost:8080/"
        },
        "id": "2LU8QpthG4zv",
        "outputId": "ad959e2b-d599-4bff-89e8-9fba079d24a1"
      },
      "execution_count": 41,
      "outputs": [
        {
          "output_type": "stream",
          "name": "stdout",
          "text": [
            "root\n",
            " |-- name.fname: string (nullable = true)\n",
            " |-- gender: long (nullable = true)\n",
            "\n",
            "+------+\n",
            "|gender|\n",
            "+------+\n",
            "|    23|\n",
            "|    40|\n",
            "+------+\n",
            "\n",
            "+----------+\n",
            "|name.fname|\n",
            "+----------+\n",
            "|     James|\n",
            "|       Ann|\n",
            "+----------+\n",
            "\n"
          ]
        }
      ]
    },
    {
      "cell_type": "code",
      "source": [
        "#Another way to select out columns using col()\n",
        "from pyspark.sql.functions import col\n",
        "df.select(col('gender')).show()\n",
        "#Accessing column name with dot (with backticks)\n",
        "df.select(col('`name.fname`')).show()"
      ],
      "metadata": {
        "colab": {
          "base_uri": "https://localhost:8080/"
        },
        "id": "QN6AcZD1Hqbv",
        "outputId": "c581d1a6-d49f-408c-f49b-dfc020e800d6"
      },
      "execution_count": 42,
      "outputs": [
        {
          "output_type": "stream",
          "name": "stdout",
          "text": [
            "+------+\n",
            "|gender|\n",
            "+------+\n",
            "|    23|\n",
            "|    40|\n",
            "+------+\n",
            "\n",
            "+----------+\n",
            "|name.fname|\n",
            "+----------+\n",
            "|     James|\n",
            "|       Ann|\n",
            "+----------+\n",
            "\n"
          ]
        }
      ]
    },
    {
      "cell_type": "code",
      "source": [
        "#Create dataframe with struct using Row class\n",
        "from pyspark.sql import Row\n",
        "data = [Row(name='James',prop=Row(hair='black',eyes='Blue')),\n",
        "        Row(name=\"Ann\",prop=Row(hair='Blonde',eyes='Green'))]\n",
        "df=spark.createDataFrame(data) \n",
        "df.show()\n",
        "\n",
        "#Access struct column\n",
        "df.select(df['prop.hair']).show()\n",
        "df.select(col('prop.hair')).show()\n",
        "\n",
        "#Access to all columns with struct\n",
        "df.select(col('prop.*')).show()\n",
        "df.select(df['prop']).show()"
      ],
      "metadata": {
        "colab": {
          "base_uri": "https://localhost:8080/"
        },
        "id": "_gm99Rf8Li5m",
        "outputId": "61d20e80-0457-4e13-956e-9a3433a31772"
      },
      "execution_count": 43,
      "outputs": [
        {
          "output_type": "stream",
          "name": "stdout",
          "text": [
            "+-----+---------------+\n",
            "| name|           prop|\n",
            "+-----+---------------+\n",
            "|James|  {black, Blue}|\n",
            "|  Ann|{Blonde, Green}|\n",
            "+-----+---------------+\n",
            "\n",
            "+------+\n",
            "|  hair|\n",
            "+------+\n",
            "| black|\n",
            "|Blonde|\n",
            "+------+\n",
            "\n",
            "+------+\n",
            "|  hair|\n",
            "+------+\n",
            "| black|\n",
            "|Blonde|\n",
            "+------+\n",
            "\n",
            "+------+-----+\n",
            "|  hair| eyes|\n",
            "+------+-----+\n",
            "| black| Blue|\n",
            "|Blonde|Green|\n",
            "+------+-----+\n",
            "\n",
            "+---------------+\n",
            "|           prop|\n",
            "+---------------+\n",
            "|  {black, Blue}|\n",
            "|{Blonde, Green}|\n",
            "+---------------+\n",
            "\n"
          ]
        }
      ]
    },
    {
      "cell_type": "code",
      "source": [
        "data = [(100,2,1),(200,3,4),(300,4,4)]\n",
        "df=spark.createDataFrame(data).toDF('col1','col2','col3')\n",
        "df.show()"
      ],
      "metadata": {
        "colab": {
          "base_uri": "https://localhost:8080/"
        },
        "id": "EVCVtrTpPgTh",
        "outputId": "ad404c99-3703-4885-c7f9-782792549cda"
      },
      "execution_count": 44,
      "outputs": [
        {
          "output_type": "stream",
          "name": "stdout",
          "text": [
            "+----+----+----+\n",
            "|col1|col2|col3|\n",
            "+----+----+----+\n",
            "| 100|   2|   1|\n",
            "| 200|   3|   4|\n",
            "| 300|   4|   4|\n",
            "+----+----+----+\n",
            "\n"
          ]
        }
      ]
    },
    {
      "cell_type": "code",
      "source": [
        "#Arithmetic operations\n",
        "df.select(df.col1 + df.col2).show()"
      ],
      "metadata": {
        "colab": {
          "base_uri": "https://localhost:8080/"
        },
        "id": "4peH7rk0SH5Y",
        "outputId": "b9d0de8e-aa75-43ba-a4d7-08a993eb553d"
      },
      "execution_count": 45,
      "outputs": [
        {
          "output_type": "stream",
          "name": "stdout",
          "text": [
            "+-------------+\n",
            "|(col1 + col2)|\n",
            "+-------------+\n",
            "|          102|\n",
            "|          203|\n",
            "|          304|\n",
            "+-------------+\n",
            "\n"
          ]
        }
      ]
    },
    {
      "cell_type": "code",
      "source": [
        "df.select(df.col1-df.col2).show()"
      ],
      "metadata": {
        "colab": {
          "base_uri": "https://localhost:8080/"
        },
        "id": "ufqyCmYWS4gw",
        "outputId": "909231de-7fed-43bc-9fd8-5170c3f0e2e8"
      },
      "execution_count": 46,
      "outputs": [
        {
          "output_type": "stream",
          "name": "stdout",
          "text": [
            "+-------------+\n",
            "|(col1 - col2)|\n",
            "+-------------+\n",
            "|           98|\n",
            "|          197|\n",
            "|          296|\n",
            "+-------------+\n",
            "\n"
          ]
        }
      ]
    },
    {
      "cell_type": "code",
      "source": [
        "df.select(df.col1 / df.col2).show()"
      ],
      "metadata": {
        "colab": {
          "base_uri": "https://localhost:8080/"
        },
        "id": "AN6x-DPJTIzh",
        "outputId": "ee142dd4-ddb1-4944-f075-e52181323029"
      },
      "execution_count": 47,
      "outputs": [
        {
          "output_type": "stream",
          "name": "stdout",
          "text": [
            "+-----------------+\n",
            "|    (col1 / col2)|\n",
            "+-----------------+\n",
            "|             50.0|\n",
            "|66.66666666666667|\n",
            "|             75.0|\n",
            "+-----------------+\n",
            "\n"
          ]
        }
      ]
    },
    {
      "cell_type": "code",
      "source": [
        "df.select(df.col1 + df.col2).show()\n",
        "df.select(df.col1 - df.col2).show()\n",
        "df.select(df.col1 * df.col2).show()\n",
        "df.select(df.col1 / df.col2).show()"
      ],
      "metadata": {
        "colab": {
          "base_uri": "https://localhost:8080/"
        },
        "id": "EgLjDMTFTRfT",
        "outputId": "0adeb35a-1a6e-4cfb-e6b2-1462fd4fae43"
      },
      "execution_count": 48,
      "outputs": [
        {
          "output_type": "stream",
          "name": "stdout",
          "text": [
            "+-------------+\n",
            "|(col1 + col2)|\n",
            "+-------------+\n",
            "|          102|\n",
            "|          203|\n",
            "|          304|\n",
            "+-------------+\n",
            "\n",
            "+-------------+\n",
            "|(col1 - col2)|\n",
            "+-------------+\n",
            "|           98|\n",
            "|          197|\n",
            "|          296|\n",
            "+-------------+\n",
            "\n",
            "+-------------+\n",
            "|(col1 * col2)|\n",
            "+-------------+\n",
            "|          200|\n",
            "|          600|\n",
            "|         1200|\n",
            "+-------------+\n",
            "\n",
            "+-----------------+\n",
            "|    (col1 / col2)|\n",
            "+-----------------+\n",
            "|             50.0|\n",
            "|66.66666666666667|\n",
            "|             75.0|\n",
            "+-----------------+\n",
            "\n"
          ]
        }
      ]
    },
    {
      "cell_type": "code",
      "source": [
        "df.select(df.col1 > df.col2).show()\n",
        "df.select(df.col2<df.col1).show()\n",
        "df.select(df.col1 == df.col2).show()"
      ],
      "metadata": {
        "id": "Xc_296IsTrIj",
        "colab": {
          "base_uri": "https://localhost:8080/"
        },
        "outputId": "1c32ab92-dcb3-4d5c-dc84-afae901976b0"
      },
      "execution_count": 49,
      "outputs": [
        {
          "output_type": "stream",
          "name": "stdout",
          "text": [
            "+-------------+\n",
            "|(col1 > col2)|\n",
            "+-------------+\n",
            "|         true|\n",
            "|         true|\n",
            "|         true|\n",
            "+-------------+\n",
            "\n",
            "+-------------+\n",
            "|(col2 < col1)|\n",
            "+-------------+\n",
            "|         true|\n",
            "|         true|\n",
            "|         true|\n",
            "+-------------+\n",
            "\n",
            "+-------------+\n",
            "|(col1 = col2)|\n",
            "+-------------+\n",
            "|        false|\n",
            "|        false|\n",
            "|        false|\n",
            "+-------------+\n",
            "\n"
          ]
        }
      ]
    },
    {
      "cell_type": "code",
      "source": [
        "df.select(df.col1 % df.col2).show()"
      ],
      "metadata": {
        "colab": {
          "base_uri": "https://localhost:8080/"
        },
        "id": "NxSbL4jC4_e8",
        "outputId": "aa074a47-08fe-4f54-839a-c86cee13110f"
      },
      "execution_count": 50,
      "outputs": [
        {
          "output_type": "stream",
          "name": "stdout",
          "text": [
            "+-------------+\n",
            "|(col1 % col2)|\n",
            "+-------------+\n",
            "|            0|\n",
            "|            2|\n",
            "|            0|\n",
            "+-------------+\n",
            "\n"
          ]
        }
      ]
    },
    {
      "cell_type": "code",
      "source": [
        "from pandas.core.groupby import DataFrameGroupBy\n",
        "data = [('James','Bond','100',None),\n",
        "        ('Ann','Varsa','200','F'),\n",
        "        ('Tom Cruise','XXX','400',''),\n",
        "        ('Tom Brand',None,'400','M')]\n",
        "columns = ['Fname','Lname','ID','Gender']\n",
        "df = spark.createDataFrame(data,columns)\n",
        "df.show()"
      ],
      "metadata": {
        "colab": {
          "base_uri": "https://localhost:8080/"
        },
        "id": "D8pxm5rs5n6b",
        "outputId": "835a4454-9438-43e7-f7a2-69c9231a5da0"
      },
      "execution_count": 51,
      "outputs": [
        {
          "output_type": "stream",
          "name": "stdout",
          "text": [
            "+----------+-----+---+------+\n",
            "|     Fname|Lname| ID|Gender|\n",
            "+----------+-----+---+------+\n",
            "|     James| Bond|100|  null|\n",
            "|       Ann|Varsa|200|     F|\n",
            "|Tom Cruise|  XXX|400|      |\n",
            "| Tom Brand| null|400|     M|\n",
            "+----------+-----+---+------+\n",
            "\n"
          ]
        }
      ]
    },
    {
      "cell_type": "code",
      "source": [
        "#alias function to rename column names\n",
        "df.select(df.Fname.alias('first_name'),\\\n",
        "          df.Lname.alias('last_name')).show()"
      ],
      "metadata": {
        "colab": {
          "base_uri": "https://localhost:8080/"
        },
        "id": "nJzgtlNp8mwo",
        "outputId": "b286ad41-d838-4493-b304-a637d0fb9128"
      },
      "execution_count": 52,
      "outputs": [
        {
          "output_type": "stream",
          "name": "stdout",
          "text": [
            "+----------+---------+\n",
            "|first_name|last_name|\n",
            "+----------+---------+\n",
            "|     James|     Bond|\n",
            "|       Ann|    Varsa|\n",
            "|Tom Cruise|      XXX|\n",
            "| Tom Brand|     null|\n",
            "+----------+---------+\n",
            "\n"
          ]
        }
      ]
    },
    {
      "cell_type": "code",
      "source": [
        "#Another example(but here we are merging two columns and then merging them)\n",
        "from pyspark.sql.functions import expr\n",
        "df.select(expr(\"Fname||','||Lname\").alias('fullname')).show()"
      ],
      "metadata": {
        "colab": {
          "base_uri": "https://localhost:8080/"
        },
        "id": "s97ncepvAJP9",
        "outputId": "1639570c-80a0-4391-94be-ee156d225639"
      },
      "execution_count": 53,
      "outputs": [
        {
          "output_type": "stream",
          "name": "stdout",
          "text": [
            "+--------------+\n",
            "|      fullname|\n",
            "+--------------+\n",
            "|    James,Bond|\n",
            "|     Ann,Varsa|\n",
            "|Tom Cruise,XXX|\n",
            "|          null|\n",
            "+--------------+\n",
            "\n"
          ]
        }
      ]
    },
    {
      "cell_type": "code",
      "source": [
        "#asc and desc to sort in ascending and descending order\n",
        "df.sort(df.Fname.asc()).show() \n",
        "df.sort(df.Fname.desc()).show()"
      ],
      "metadata": {
        "colab": {
          "base_uri": "https://localhost:8080/"
        },
        "id": "rbtF0QvS9tha",
        "outputId": "dab37b22-ea84-40da-883f-1331546ae448"
      },
      "execution_count": 54,
      "outputs": [
        {
          "output_type": "stream",
          "name": "stdout",
          "text": [
            "+----------+-----+---+------+\n",
            "|     Fname|Lname| ID|Gender|\n",
            "+----------+-----+---+------+\n",
            "|       Ann|Varsa|200|     F|\n",
            "|     James| Bond|100|  null|\n",
            "| Tom Brand| null|400|     M|\n",
            "|Tom Cruise|  XXX|400|      |\n",
            "+----------+-----+---+------+\n",
            "\n",
            "+----------+-----+---+------+\n",
            "|     Fname|Lname| ID|Gender|\n",
            "+----------+-----+---+------+\n",
            "|Tom Cruise|  XXX|400|      |\n",
            "| Tom Brand| null|400|     M|\n",
            "|     James| Bond|100|  null|\n",
            "|       Ann|Varsa|200|     F|\n",
            "+----------+-----+---+------+\n",
            "\n"
          ]
        }
      ]
    },
    {
      "cell_type": "code",
      "source": [
        " #cast() & astype() to convert the data Type.\n",
        " df.select(df.ID.cast('int')).printSchema()\n",
        "\n",
        "df.select(df.Fname,df.ID.cast(\"int\")).printSchema()\n",
        "df.select(df.Fname,df.ID.astype(\"int\")).printSchema()"
      ],
      "metadata": {
        "colab": {
          "base_uri": "https://localhost:8080/"
        },
        "id": "xWpdB8PT_1HQ",
        "outputId": "ee03a24a-a5d0-40e0-82e2-a130b13902fb"
      },
      "execution_count": 55,
      "outputs": [
        {
          "output_type": "stream",
          "name": "stdout",
          "text": [
            "root\n",
            " |-- ID: integer (nullable = true)\n",
            "\n",
            "root\n",
            " |-- Fname: string (nullable = true)\n",
            " |-- ID: integer (nullable = true)\n",
            "\n",
            "root\n",
            " |-- Fname: string (nullable = true)\n",
            " |-- ID: integer (nullable = true)\n",
            "\n"
          ]
        }
      ]
    },
    {
      "cell_type": "code",
      "source": [
        "#between() to Return a Boolean expression when a column values in between lower and upper bound.\n",
        "df.filter(df.ID.between(100,300)).show()"
      ],
      "metadata": {
        "colab": {
          "base_uri": "https://localhost:8080/"
        },
        "id": "rPIPBZ7lB5-U",
        "outputId": "99c3bd7a-8f7f-485a-ec14-a0c7efcfdff4"
      },
      "execution_count": 56,
      "outputs": [
        {
          "output_type": "stream",
          "name": "stdout",
          "text": [
            "+-----+-----+---+------+\n",
            "|Fname|Lname| ID|Gender|\n",
            "+-----+-----+---+------+\n",
            "|James| Bond|100|  null|\n",
            "|  Ann|Varsa|200|     F|\n",
            "+-----+-----+---+------+\n",
            "\n"
          ]
        }
      ]
    },
    {
      "cell_type": "code",
      "source": [
        "#contains() to Check if a DataFrame column value contains a a value specified in this function.\n",
        "df.filter(df.Fname.contains('Tom Cruise')).show()"
      ],
      "metadata": {
        "colab": {
          "base_uri": "https://localhost:8080/"
        },
        "id": "mUrRFQWNCfAb",
        "outputId": "2ab94172-2332-4e55-87ec-f8f77935e75b"
      },
      "execution_count": 57,
      "outputs": [
        {
          "output_type": "stream",
          "name": "stdout",
          "text": [
            "+----------+-----+---+------+\n",
            "|     Fname|Lname| ID|Gender|\n",
            "+----------+-----+---+------+\n",
            "|Tom Cruise|  XXX|400|      |\n",
            "+----------+-----+---+------+\n",
            "\n"
          ]
        }
      ]
    },
    {
      "cell_type": "code",
      "source": [
        "# startswith() & endswith()  to check if the value of the DataFrame Column starts and ends with a String respectively.\n",
        "df.filter(df.Fname.startswith('T')).show()\n",
        "df.filter(df.Fname.endswith('uise')).show()"
      ],
      "metadata": {
        "colab": {
          "base_uri": "https://localhost:8080/"
        },
        "id": "ndawTQhzDuWE",
        "outputId": "4db2c361-4914-4cde-8978-dc3bf2f4c86b"
      },
      "execution_count": 58,
      "outputs": [
        {
          "output_type": "stream",
          "name": "stdout",
          "text": [
            "+----------+-----+---+------+\n",
            "|     Fname|Lname| ID|Gender|\n",
            "+----------+-----+---+------+\n",
            "|Tom Cruise|  XXX|400|      |\n",
            "| Tom Brand| null|400|     M|\n",
            "+----------+-----+---+------+\n",
            "\n",
            "+----------+-----+---+------+\n",
            "|     Fname|Lname| ID|Gender|\n",
            "+----------+-----+---+------+\n",
            "|Tom Cruise|  XXX|400|      |\n",
            "+----------+-----+---+------+\n",
            "\n"
          ]
        }
      ]
    },
    {
      "cell_type": "code",
      "source": [
        "#isNull & isNotNull() to check if the DataFrame column has NULL or non NULL values.\n",
        "df.filter(df.Lname.isNull()).show()\n",
        "df.filter(df.Lname.isNotNull()).show()"
      ],
      "metadata": {
        "colab": {
          "base_uri": "https://localhost:8080/"
        },
        "id": "N3c2FjrHEMGT",
        "outputId": "681b49d0-8342-44c4-eb01-8a9a51bf52ef"
      },
      "execution_count": 59,
      "outputs": [
        {
          "output_type": "stream",
          "name": "stdout",
          "text": [
            "+---------+-----+---+------+\n",
            "|    Fname|Lname| ID|Gender|\n",
            "+---------+-----+---+------+\n",
            "|Tom Brand| null|400|     M|\n",
            "+---------+-----+---+------+\n",
            "\n",
            "+----------+-----+---+------+\n",
            "|     Fname|Lname| ID|Gender|\n",
            "+----------+-----+---+------+\n",
            "|     James| Bond|100|  null|\n",
            "|       Ann|Varsa|200|     F|\n",
            "|Tom Cruise|  XXX|400|      |\n",
            "+----------+-----+---+------+\n",
            "\n"
          ]
        }
      ]
    },
    {
      "cell_type": "code",
      "source": [
        "#like() & rlike() – Similar to SQL LIKE expression\n",
        "#like , rlike\n",
        "\n",
        "df.select(df.Fname,df.Lname,df.ID).filter(df.Fname.like('%nn')).show()"
      ],
      "metadata": {
        "colab": {
          "base_uri": "https://localhost:8080/"
        },
        "id": "8F4Uybj_E8UR",
        "outputId": "cdc31f70-b1dd-4937-b348-22560b6c1491"
      },
      "execution_count": 60,
      "outputs": [
        {
          "output_type": "stream",
          "name": "stdout",
          "text": [
            "+-----+-----+---+\n",
            "|Fname|Lname| ID|\n",
            "+-----+-----+---+\n",
            "|  Ann|Varsa|200|\n",
            "+-----+-----+---+\n",
            "\n"
          ]
        }
      ]
    },
    {
      "cell_type": "code",
      "source": [
        "#substr() – Returns a Column after getting sub string from the Column\n",
        "df.select(df.Fname.substr(1,2).alias(\"substr\")).show()"
      ],
      "metadata": {
        "colab": {
          "base_uri": "https://localhost:8080/"
        },
        "id": "D6y1P05JFJFp",
        "outputId": "6b0b889a-c854-4b7d-9001-00abd1a39a99"
      },
      "execution_count": 61,
      "outputs": [
        {
          "output_type": "stream",
          "name": "stdout",
          "text": [
            "+------+\n",
            "|substr|\n",
            "+------+\n",
            "|    Ja|\n",
            "|    An|\n",
            "|    To|\n",
            "|    To|\n",
            "+------+\n",
            "\n"
          ]
        }
      ]
    },
    {
      "cell_type": "code",
      "source": [
        "#when & otherwise\n",
        "from pyspark.sql.functions import when\n",
        "df.select(df.Fname,df.Lname,when(df.Gender=='M','Male')\\\n",
        "          .when(df.Gender=='F','Female')\\\n",
        "          .when(df.Gender==None,'')\\\n",
        "          .otherwise(df.Gender).alias('New_gender')).show()"
      ],
      "metadata": {
        "colab": {
          "base_uri": "https://localhost:8080/"
        },
        "id": "UjjxT8Qybbhy",
        "outputId": "b094c04f-6df7-4596-cd9b-7b47de3cd2c9"
      },
      "execution_count": 62,
      "outputs": [
        {
          "output_type": "stream",
          "name": "stdout",
          "text": [
            "+----------+-----+----------+\n",
            "|     Fname|Lname|New_gender|\n",
            "+----------+-----+----------+\n",
            "|     James| Bond|      null|\n",
            "|       Ann|Varsa|    Female|\n",
            "|Tom Cruise|  XXX|          |\n",
            "| Tom Brand| null|      Male|\n",
            "+----------+-----+----------+\n",
            "\n"
          ]
        }
      ]
    },
    {
      "cell_type": "code",
      "source": [
        "#isin\n",
        "list1 = ['100','200']\n",
        "df.select(df.Fname,df.Lname,df.ID).filter(df.ID.isin(list1)).show()"
      ],
      "metadata": {
        "colab": {
          "base_uri": "https://localhost:8080/"
        },
        "id": "dEijmMhrgiG6",
        "outputId": "90d95126-eb45-4947-e496-2d7458d62fc8"
      },
      "execution_count": 63,
      "outputs": [
        {
          "output_type": "stream",
          "name": "stdout",
          "text": [
            "+-----+-----+---+\n",
            "|Fname|Lname| ID|\n",
            "+-----+-----+---+\n",
            "|James| Bond|100|\n",
            "|  Ann|Varsa|200|\n",
            "+-----+-----+---+\n",
            "\n"
          ]
        }
      ]
    },
    {
      "cell_type": "code",
      "source": [
        "\n",
        "#Create DataFrame with struct, array & map\n",
        "from pyspark.sql.types import StructType,StructField,StringType,ArrayType,MapType\n",
        "data=[((\"James\",\"Bond\"),[\"Java\",\"C#\"],{'hair':'black','eye':'brown'}),\n",
        "      ((\"Ann\",\"Varsa\"),[\".NET\",\"Python\"],{'hair':'brown','eye':'black'}),\n",
        "      ((\"Tom Cruise\",\"\"),[\"Python\",\"Scala\"],{'hair':'red','eye':'grey'}),\n",
        "      ((\"Tom Brand\",None),[\"Perl\",\"Ruby\"],{'hair':'black','eye':'blue'})]\n",
        "\n",
        "schema = StructType([\n",
        "        StructField('name', StructType([\n",
        "            StructField('fname', StringType(), True),\n",
        "            StructField('lname', StringType(), True)])),\n",
        "        StructField('languages', ArrayType(StringType()),True),\n",
        "        StructField('properties', MapType(StringType(),StringType()),True)\n",
        "     ])\n",
        "df=spark.createDataFrame(data,schema)\n",
        "df.printSchema()\n",
        "df.show()\n"
      ],
      "metadata": {
        "colab": {
          "base_uri": "https://localhost:8080/"
        },
        "id": "LS1_fkNkhhO4",
        "outputId": "e6217dc8-db6b-4dda-c757-702fd75c04ac"
      },
      "execution_count": 64,
      "outputs": [
        {
          "output_type": "stream",
          "name": "stdout",
          "text": [
            "root\n",
            " |-- name: struct (nullable = true)\n",
            " |    |-- fname: string (nullable = true)\n",
            " |    |-- lname: string (nullable = true)\n",
            " |-- languages: array (nullable = true)\n",
            " |    |-- element: string (containsNull = true)\n",
            " |-- properties: map (nullable = true)\n",
            " |    |-- key: string\n",
            " |    |-- value: string (valueContainsNull = true)\n",
            "\n",
            "+-----------------+---------------+--------------------+\n",
            "|             name|      languages|          properties|\n",
            "+-----------------+---------------+--------------------+\n",
            "|    {James, Bond}|     [Java, C#]|{eye -> brown, ha...|\n",
            "|     {Ann, Varsa}| [.NET, Python]|{eye -> black, ha...|\n",
            "|   {Tom Cruise, }|[Python, Scala]|{eye -> grey, hai...|\n",
            "|{Tom Brand, null}|   [Perl, Ruby]|{eye -> blue, hai...|\n",
            "+-----------------+---------------+--------------------+\n",
            "\n"
          ]
        }
      ]
    },
    {
      "cell_type": "code",
      "source": [
        "#getField from MapType\n",
        "df.select(df.properties.getField(\"hair\")).show()\n",
        "\n",
        "#getField from Struct\n",
        "df.select(df.name.getField(\"fname\")).show()"
      ],
      "metadata": {
        "colab": {
          "base_uri": "https://localhost:8080/"
        },
        "id": "iDMf_wHxiKU5",
        "outputId": "84a675c2-833e-4c86-a872-7f7902c0f071"
      },
      "execution_count": 65,
      "outputs": [
        {
          "output_type": "stream",
          "name": "stdout",
          "text": [
            "+----------------+\n",
            "|properties[hair]|\n",
            "+----------------+\n",
            "|           black|\n",
            "|           brown|\n",
            "|             red|\n",
            "|           black|\n",
            "+----------------+\n",
            "\n",
            "+----------+\n",
            "|name.fname|\n",
            "+----------+\n",
            "|     James|\n",
            "|       Ann|\n",
            "|Tom Cruise|\n",
            "| Tom Brand|\n",
            "+----------+\n",
            "\n"
          ]
        }
      ]
    },
    {
      "cell_type": "code",
      "source": [
        "\n",
        "#getItem() used with ArrayType\n",
        "df.select(df.languages.getItem(1)).show()\n",
        "\n",
        "#getItem() used with MapType\n",
        "df.select(df.properties.getItem(\"hair\")).show()\n"
      ],
      "metadata": {
        "colab": {
          "base_uri": "https://localhost:8080/"
        },
        "id": "9XxA38p8iqzM",
        "outputId": "03b304e1-1f3c-4247-83c4-b2d2c4af34ad"
      },
      "execution_count": 66,
      "outputs": [
        {
          "output_type": "stream",
          "name": "stdout",
          "text": [
            "+------------+\n",
            "|languages[1]|\n",
            "+------------+\n",
            "|          C#|\n",
            "|      Python|\n",
            "|       Scala|\n",
            "|        Ruby|\n",
            "+------------+\n",
            "\n",
            "+----------------+\n",
            "|properties[hair]|\n",
            "+----------------+\n",
            "|           black|\n",
            "|           brown|\n",
            "|             red|\n",
            "|           black|\n",
            "+----------------+\n",
            "\n"
          ]
        }
      ]
    },
    {
      "cell_type": "code",
      "source": [],
      "metadata": {
        "id": "kkcalK0CjBAz"
      },
      "execution_count": 66,
      "outputs": []
    }
  ]
}